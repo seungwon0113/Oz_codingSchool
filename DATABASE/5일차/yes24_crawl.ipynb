{
 "cells": [
  {
   "cell_type": "markdown",
   "metadata": {},
   "source": [
    "### 예스 크롤링"
   ]
  },
  {
   "cell_type": "code",
   "execution_count": 2,
   "metadata": {},
   "outputs": [
    {
     "data": {
      "text/plain": [
       "'/Users/mac/.wdm/drivers/chromedriver/mac64/127.0.6533.119/chromedriver-mac-x64/chromedriver'"
      ]
     },
     "execution_count": 2,
     "metadata": {},
     "output_type": "execute_result"
    }
   ],
   "source": [
    "# webdriver-manager 라이브러리 불러오기\n",
    "from webdriver_manager.chrome import ChromeDriverManager\n",
    "ChromeDriverManager().install()"
   ]
  },
  {
   "cell_type": "code",
   "execution_count": 93,
   "metadata": {},
   "outputs": [],
   "source": [
    "from selenium import webdriver\n",
    "browser = webdriver.Chrome()"
   ]
  },
  {
   "cell_type": "code",
   "execution_count": 94,
   "metadata": {},
   "outputs": [],
   "source": [
    "url = 'https://google.com'\n",
    "browser.get(url)"
   ]
  },
  {
   "cell_type": "code",
   "execution_count": 27,
   "metadata": {},
   "outputs": [
    {
     "data": {
      "text/plain": [
       "<selenium.webdriver.remote.webelement.WebElement (session=\"895a10e63f9e6ce7802c5f0c0740a336\", element=\"f.0E52202234D26FD386EAAD065C392592.d.41235D86495629A09291223C56F27B1F.e.10\")>"
      ]
     },
     "execution_count": 27,
     "metadata": {},
     "output_type": "execute_result"
    }
   ],
   "source": [
    "from selenium.webdriver.common.by import By\n",
    "browser.find_element(By.CLASS_NAME, 'uU7dJb')"
   ]
  },
  {
   "cell_type": "code",
   "execution_count": 95,
   "metadata": {},
   "outputs": [],
   "source": [
    "url = 'https://www.yes24.com/Product/Category/BestSeller?categoryNumber=001&pageNumber=1&pageSize=24'\n",
    "browser.get(url)"
   ]
  },
  {
   "cell_type": "code",
   "execution_count": 38,
   "metadata": {},
   "outputs": [
    {
     "name": "stdout",
     "output_type": "stream",
     "text": [
      "만화로 보는 3분 철학 1\n",
      "https://www.yes24.com/Product/Goods/102457889\n"
     ]
    },
    {
     "data": {
      "text/plain": [
       "[<selenium.webdriver.remote.webelement.WebElement (session=\"6871c1367f3c85d1c2659a495de58673\", element=\"f.B724DBB49FD4466B6C87F4D0D393389F.d.CC37CD7056C9D2FA26B17625EB4B07FF.e.445\")>,\n",
       " <selenium.webdriver.remote.webelement.WebElement (session=\"6871c1367f3c85d1c2659a495de58673\", element=\"f.B724DBB49FD4466B6C87F4D0D393389F.d.CC37CD7056C9D2FA26B17625EB4B07FF.e.3802\")>,\n",
       " <selenium.webdriver.remote.webelement.WebElement (session=\"6871c1367f3c85d1c2659a495de58673\", element=\"f.B724DBB49FD4466B6C87F4D0D393389F.d.CC37CD7056C9D2FA26B17625EB4B07FF.e.4014\")>,\n",
       " <selenium.webdriver.remote.webelement.WebElement (session=\"6871c1367f3c85d1c2659a495de58673\", element=\"f.B724DBB49FD4466B6C87F4D0D393389F.d.CC37CD7056C9D2FA26B17625EB4B07FF.e.4243\")>,\n",
       " <selenium.webdriver.remote.webelement.WebElement (session=\"6871c1367f3c85d1c2659a495de58673\", element=\"f.B724DBB49FD4466B6C87F4D0D393389F.d.CC37CD7056C9D2FA26B17625EB4B07FF.e.4460\")>,\n",
       " <selenium.webdriver.remote.webelement.WebElement (session=\"6871c1367f3c85d1c2659a495de58673\", element=\"f.B724DBB49FD4466B6C87F4D0D393389F.d.CC37CD7056C9D2FA26B17625EB4B07FF.e.4635\")>,\n",
       " <selenium.webdriver.remote.webelement.WebElement (session=\"6871c1367f3c85d1c2659a495de58673\", element=\"f.B724DBB49FD4466B6C87F4D0D393389F.d.CC37CD7056C9D2FA26B17625EB4B07FF.e.4829\")>,\n",
       " <selenium.webdriver.remote.webelement.WebElement (session=\"6871c1367f3c85d1c2659a495de58673\", element=\"f.B724DBB49FD4466B6C87F4D0D393389F.d.CC37CD7056C9D2FA26B17625EB4B07FF.e.5058\")>,\n",
       " <selenium.webdriver.remote.webelement.WebElement (session=\"6871c1367f3c85d1c2659a495de58673\", element=\"f.B724DBB49FD4466B6C87F4D0D393389F.d.CC37CD7056C9D2FA26B17625EB4B07FF.e.5252\")>,\n",
       " <selenium.webdriver.remote.webelement.WebElement (session=\"6871c1367f3c85d1c2659a495de58673\", element=\"f.B724DBB49FD4466B6C87F4D0D393389F.d.CC37CD7056C9D2FA26B17625EB4B07FF.e.5476\")>,\n",
       " <selenium.webdriver.remote.webelement.WebElement (session=\"6871c1367f3c85d1c2659a495de58673\", element=\"f.B724DBB49FD4466B6C87F4D0D393389F.d.CC37CD7056C9D2FA26B17625EB4B07FF.e.5687\")>,\n",
       " <selenium.webdriver.remote.webelement.WebElement (session=\"6871c1367f3c85d1c2659a495de58673\", element=\"f.B724DBB49FD4466B6C87F4D0D393389F.d.CC37CD7056C9D2FA26B17625EB4B07FF.e.5900\")>,\n",
       " <selenium.webdriver.remote.webelement.WebElement (session=\"6871c1367f3c85d1c2659a495de58673\", element=\"f.B724DBB49FD4466B6C87F4D0D393389F.d.CC37CD7056C9D2FA26B17625EB4B07FF.e.6114\")>,\n",
       " <selenium.webdriver.remote.webelement.WebElement (session=\"6871c1367f3c85d1c2659a495de58673\", element=\"f.B724DBB49FD4466B6C87F4D0D393389F.d.CC37CD7056C9D2FA26B17625EB4B07FF.e.6309\")>,\n",
       " <selenium.webdriver.remote.webelement.WebElement (session=\"6871c1367f3c85d1c2659a495de58673\", element=\"f.B724DBB49FD4466B6C87F4D0D393389F.d.CC37CD7056C9D2FA26B17625EB4B07FF.e.6537\")>,\n",
       " <selenium.webdriver.remote.webelement.WebElement (session=\"6871c1367f3c85d1c2659a495de58673\", element=\"f.B724DBB49FD4466B6C87F4D0D393389F.d.CC37CD7056C9D2FA26B17625EB4B07FF.e.6740\")>,\n",
       " <selenium.webdriver.remote.webelement.WebElement (session=\"6871c1367f3c85d1c2659a495de58673\", element=\"f.B724DBB49FD4466B6C87F4D0D393389F.d.CC37CD7056C9D2FA26B17625EB4B07FF.e.6951\")>,\n",
       " <selenium.webdriver.remote.webelement.WebElement (session=\"6871c1367f3c85d1c2659a495de58673\", element=\"f.B724DBB49FD4466B6C87F4D0D393389F.d.CC37CD7056C9D2FA26B17625EB4B07FF.e.7162\")>,\n",
       " <selenium.webdriver.remote.webelement.WebElement (session=\"6871c1367f3c85d1c2659a495de58673\", element=\"f.B724DBB49FD4466B6C87F4D0D393389F.d.CC37CD7056C9D2FA26B17625EB4B07FF.e.7394\")>,\n",
       " <selenium.webdriver.remote.webelement.WebElement (session=\"6871c1367f3c85d1c2659a495de58673\", element=\"f.B724DBB49FD4466B6C87F4D0D393389F.d.CC37CD7056C9D2FA26B17625EB4B07FF.e.7596\")>,\n",
       " <selenium.webdriver.remote.webelement.WebElement (session=\"6871c1367f3c85d1c2659a495de58673\", element=\"f.B724DBB49FD4466B6C87F4D0D393389F.d.CC37CD7056C9D2FA26B17625EB4B07FF.e.7831\")>,\n",
       " <selenium.webdriver.remote.webelement.WebElement (session=\"6871c1367f3c85d1c2659a495de58673\", element=\"f.B724DBB49FD4466B6C87F4D0D393389F.d.CC37CD7056C9D2FA26B17625EB4B07FF.e.8043\")>,\n",
       " <selenium.webdriver.remote.webelement.WebElement (session=\"6871c1367f3c85d1c2659a495de58673\", element=\"f.B724DBB49FD4466B6C87F4D0D393389F.d.CC37CD7056C9D2FA26B17625EB4B07FF.e.8234\")>,\n",
       " <selenium.webdriver.remote.webelement.WebElement (session=\"6871c1367f3c85d1c2659a495de58673\", element=\"f.B724DBB49FD4466B6C87F4D0D393389F.d.CC37CD7056C9D2FA26B17625EB4B07FF.e.8445\")>]"
      ]
     },
     "execution_count": 38,
     "metadata": {},
     "output_type": "execute_result"
    }
   ],
   "source": [
    "# 1페이지의 링크 데이터 전부 수집\n",
    "### 한 개의 베스트 셀러 링크 수집\n",
    "print(browser.find_element(By.CLASS_NAME, 'gd_name').text) # 텍스트\n",
    "print(browser.find_element(By.CLASS_NAME, 'gd_name').get_attribute('href')) # 링크\n",
    "\n",
    "# 1페이지 전체의 링크 데이터\n",
    "browser.find_elements(By.CLASS_NAME, 'gd_name')"
   ]
  },
  {
   "cell_type": "code",
   "execution_count": 96,
   "metadata": {},
   "outputs": [
    {
     "name": "stdout",
     "output_type": "stream",
     "text": [
      "********** 현재 1페이지 수집 중 입니다. **********\n",
      "********** 현재 2페이지 수집 중 입니다. **********\n",
      "********** 현재 3페이지 수집 중 입니다. **********\n",
      "['https://www.yes24.com/Product/Goods/102457889', 'https://www.yes24.com/Product/Goods/128266166', 'https://www.yes24.com/Product/Goods/125557465', 'https://www.yes24.com/Product/Goods/130500819', 'https://www.yes24.com/Product/Goods/104687898', 'https://www.yes24.com/Product/Goods/109145992', 'https://www.yes24.com/Product/Goods/95721612', 'https://www.yes24.com/Product/Goods/129602366', 'https://www.yes24.com/Product/Goods/124999476', 'https://www.yes24.com/Product/Goods/131930939', 'https://www.yes24.com/Product/Goods/131931234', 'https://www.yes24.com/Product/Goods/128917300', 'https://www.yes24.com/Product/Goods/117014613', 'https://www.yes24.com/Product/Goods/132560712', 'https://www.yes24.com/Product/Goods/126642929', 'https://www.yes24.com/Product/Goods/130033773', 'https://www.yes24.com/Product/Goods/132556345', 'https://www.yes24.com/Product/Goods/124043812', 'https://www.yes24.com/Product/Goods/96547408', 'https://www.yes24.com/Product/Goods/124043802', 'https://www.yes24.com/Product/Goods/128133897', 'https://www.yes24.com/Product/Goods/8759796', 'https://www.yes24.com/Product/Goods/125384743', 'https://www.yes24.com/Product/Goods/130134996', 'https://www.yes24.com/Product/Goods/127050264', 'https://www.yes24.com/Product/Goods/130135671', 'https://www.yes24.com/Product/Goods/105119262', 'https://www.yes24.com/Product/Goods/132005760', 'https://www.yes24.com/Product/Goods/130175384', 'https://www.yes24.com/Product/Goods/125995791', 'https://www.yes24.com/Product/Goods/129124029', 'https://www.yes24.com/Product/Goods/122120495', 'https://www.yes24.com/Product/Goods/126590468', 'https://www.yes24.com/Product/Goods/131141187', 'https://www.yes24.com/Product/Goods/124225606', 'https://www.yes24.com/Product/Goods/131929977', 'https://www.yes24.com/Product/Goods/131169928', 'https://www.yes24.com/Product/Goods/126845471', 'https://www.yes24.com/Product/Goods/130169010', 'https://www.yes24.com/Product/Goods/123930880', 'https://www.yes24.com/Product/Goods/130104021', 'https://www.yes24.com/Product/Goods/125285962', 'https://www.yes24.com/Product/Goods/130137454', 'https://www.yes24.com/Product/Goods/132560925', 'https://www.yes24.com/Product/Goods/129868692', 'https://www.yes24.com/Product/Goods/123930891', 'https://www.yes24.com/Product/Goods/23030284', 'https://www.yes24.com/Product/Goods/101864763', 'https://www.yes24.com/Product/Goods/129868701', 'https://www.yes24.com/Product/Goods/126702038', 'https://www.yes24.com/Product/Goods/130697449', 'https://www.yes24.com/Product/Goods/131143825', 'https://www.yes24.com/Product/Goods/125992096', 'https://www.yes24.com/Product/Goods/129868658', 'https://www.yes24.com/Product/Goods/132549254', 'https://www.yes24.com/Product/Goods/130282007', 'https://www.yes24.com/Product/Goods/130339184', 'https://www.yes24.com/Product/Goods/67362730', 'https://www.yes24.com/Product/Goods/124622440', 'https://www.yes24.com/Product/Goods/125005783', 'https://www.yes24.com/Product/Goods/2312211', 'https://www.yes24.com/Product/Goods/129392318', 'https://www.yes24.com/Product/Goods/129132125', 'https://www.yes24.com/Product/Goods/126516935', 'https://www.yes24.com/Product/Goods/125295101', 'https://www.yes24.com/Product/Goods/11081680', 'https://www.yes24.com/Product/Goods/104663596', 'https://www.yes24.com/Product/Goods/2944911', 'https://www.yes24.com/Product/Goods/131206997', 'https://www.yes24.com/Product/Goods/102791425', 'https://www.yes24.com/Product/Goods/123675187', 'https://www.yes24.com/Product/Goods/131927753']\n"
     ]
    }
   ],
   "source": [
    "# 3페이지까지의 링크 데이터 전부 수집\n",
    "# https://www.yes24.com/Product/Category/BestSeller?categoryNumber=001&pageNumber=1&pageSize=24\n",
    "# https://www.yes24.com/Product/Category/BestSeller?categoryNumber=001&pageNumber=2&pageSize=24\n",
    "# https://www.yes24.com/Product/Category/BestSeller?categoryNumber=001&pageNumber=3&pageSize=24\n",
    "\n",
    "import time\n",
    "\n",
    "link_list = []\n",
    "for i in range(1, 4):\n",
    "    print(\"*\" * 10, f'현재 {i}페이지 수집 중 입니다.', \"*\" * 10)\n",
    "    url = f'https://www.yes24.com/Product/Category/BestSeller?categoryNumber=001&pageNumber={i}&pageSize=24'\n",
    "    browser.get(url)\n",
    "    \n",
    "    browser.find_element(By.CLASS_NAME, 'gd_name').get_attribute('href')\n",
    "\n",
    "    datas = browser.find_elements(By.CLASS_NAME, 'gd_name')\n",
    "    for i in datas:\n",
    "        link = i.get_attribute('href')\n",
    "        link_list.append(link)\n",
    "\n",
    "    time.sleep(3)\n",
    "\n",
    "print(link_list)"
   ]
  },
  {
   "cell_type": "code",
   "execution_count": 49,
   "metadata": {},
   "outputs": [
    {
     "data": {
      "text/plain": [
       "72"
      ]
     },
     "execution_count": 49,
     "metadata": {},
     "output_type": "execute_result"
    }
   ],
   "source": [
    "len(link_list)"
   ]
  },
  {
   "cell_type": "code",
   "execution_count": 97,
   "metadata": {},
   "outputs": [
    {
     "data": {
      "text/plain": [
       "'68'"
      ]
     },
     "execution_count": 97,
     "metadata": {},
     "output_type": "execute_result"
    }
   ],
   "source": [
    "# for link in link_list:\n",
    "#     # 상세 페이지로 이동\n",
    "#     browser.get(link)\n",
    "\n",
    "browser.get(link_list[0])\n",
    "\n",
    "title = browser.find_element(By.CLASS_NAME, 'gd_name').text\n",
    "author = browser.find_element(By.CLASS_NAME, 'gd_auth').text\n",
    "publisher = browser.find_element(By.CLASS_NAME, 'gd_pub').text\n",
    "publishing = browser.find_element(By.CLASS_NAME, 'gd_date').text\n",
    "rating = browser.find_element(By.CLASS_NAME, 'yes_b').text\n",
    "review = browser.find_element(By.CLASS_NAME, 'gd_reviewCount').find_element(By.CLASS_NAME,\"txC_blue\").text\n",
    "sales = browser.find_element(By.CLASS_NAME, 'gd_sellNum').text.split(\" \")[2]\n",
    "price = browser.find_element(By.CLASS_NAME, 'yes_m').text[:-1]\n",
    "ranking = browser.find_element(By.CLASS_NAME, 'gd_best').find_element(By.TAG_NAME, 'a').text\n",
    "review"
   ]
  },
  {
   "cell_type": "code",
   "execution_count": 102,
   "metadata": {},
   "outputs": [
    {
     "name": "stdout",
     "output_type": "stream",
     "text": [
      "Error processing link https://example.com/book1: Message: no such element: Unable to locate element: {\"method\":\"css selector\",\"selector\":\".gd_name\"}\n",
      "  (Session info: chrome=127.0.6533.120); For documentation on this error, please visit: https://www.selenium.dev/documentation/webdriver/troubleshooting/errors#no-such-element-exception\n",
      "Stacktrace:\n",
      "0   chromedriver                        0x000000010301a8b8 chromedriver + 5179576\n",
      "1   chromedriver                        0x00000001030122ea chromedriver + 5145322\n",
      "2   chromedriver                        0x0000000102b892b0 chromedriver + 389808\n",
      "3   chromedriver                        0x0000000102bd53e1 chromedriver + 701409\n",
      "4   chromedriver                        0x0000000102bd5691 chromedriver + 702097\n",
      "5   chromedriver                        0x0000000102c17464 chromedriver + 971876\n",
      "6   chromedriver                        0x0000000102bf77dd chromedriver + 841693\n",
      "7   chromedriver                        0x0000000102c14b9b chromedriver + 961435\n",
      "8   chromedriver                        0x0000000102bf7553 chromedriver + 841043\n",
      "9   chromedriver                        0x0000000102bc87f6 chromedriver + 649206\n",
      "10  chromedriver                        0x0000000102bc905e chromedriver + 651358\n",
      "11  chromedriver                        0x0000000102fddb20 chromedriver + 4930336\n",
      "12  chromedriver                        0x0000000102fe2a36 chromedriver + 4950582\n",
      "13  chromedriver                        0x0000000102fe3105 chromedriver + 4952325\n",
      "14  chromedriver                        0x0000000102fbfee9 chromedriver + 4808425\n",
      "15  chromedriver                        0x0000000102fe33f9 chromedriver + 4953081\n",
      "16  chromedriver                        0x0000000102fb1844 chromedriver + 4749380\n",
      "17  chromedriver                        0x00000001030025c8 chromedriver + 5080520\n",
      "18  chromedriver                        0x0000000103002787 chromedriver + 5080967\n",
      "19  chromedriver                        0x0000000103011ece chromedriver + 5144270\n",
      "20  libsystem_pthread.dylib             0x00007ff81222c202 _pthread_start + 99\n",
      "21  libsystem_pthread.dylib             0x00007ff812227bab thread_start + 15\n",
      "\n",
      "Error processing link https://example.com/book2: Message: no such element: Unable to locate element: {\"method\":\"css selector\",\"selector\":\".gd_name\"}\n",
      "  (Session info: chrome=127.0.6533.120); For documentation on this error, please visit: https://www.selenium.dev/documentation/webdriver/troubleshooting/errors#no-such-element-exception\n",
      "Stacktrace:\n",
      "0   chromedriver                        0x000000010301a8b8 chromedriver + 5179576\n",
      "1   chromedriver                        0x00000001030122ea chromedriver + 5145322\n",
      "2   chromedriver                        0x0000000102b892b0 chromedriver + 389808\n",
      "3   chromedriver                        0x0000000102bd53e1 chromedriver + 701409\n",
      "4   chromedriver                        0x0000000102bd5691 chromedriver + 702097\n",
      "5   chromedriver                        0x0000000102c17464 chromedriver + 971876\n",
      "6   chromedriver                        0x0000000102bf77dd chromedriver + 841693\n",
      "7   chromedriver                        0x0000000102c14b9b chromedriver + 961435\n",
      "8   chromedriver                        0x0000000102bf7553 chromedriver + 841043\n",
      "9   chromedriver                        0x0000000102bc87f6 chromedriver + 649206\n",
      "10  chromedriver                        0x0000000102bc905e chromedriver + 651358\n",
      "11  chromedriver                        0x0000000102fddb20 chromedriver + 4930336\n",
      "12  chromedriver                        0x0000000102fe2a36 chromedriver + 4950582\n",
      "13  chromedriver                        0x0000000102fe3105 chromedriver + 4952325\n",
      "14  chromedriver                        0x0000000102fbfee9 chromedriver + 4808425\n",
      "15  chromedriver                        0x0000000102fe33f9 chromedriver + 4953081\n",
      "16  chromedriver                        0x0000000102fb1844 chromedriver + 4749380\n",
      "17  chromedriver                        0x00000001030025c8 chromedriver + 5080520\n",
      "18  chromedriver                        0x0000000103002787 chromedriver + 5080967\n",
      "19  chromedriver                        0x0000000103011ece chromedriver + 5144270\n",
      "20  libsystem_pthread.dylib             0x00007ff81222c202 _pthread_start + 99\n",
      "21  libsystem_pthread.dylib             0x00007ff812227bab thread_start + 15\n",
      "\n",
      "Database connection closed.\n"
     ]
    }
   ],
   "source": [
    "import pymysql\n",
    "import time\n",
    "import re\n",
    "from datetime import datetime\n",
    "from selenium import webdriver\n",
    "from selenium.webdriver.common.by import By\n",
    "\n",
    "# 링크 리스트 (예시로 채워 넣습니다)\n",
    "link_list = [\"https://example.com/book1\", \"https://example.com/book2\"]\n",
    "\n",
    "# 데이터베이스 연결 설정\n",
    "conn = pymysql.connect(\n",
    "    host='localhost',\n",
    "    user='root',\n",
    "    password='seungwon0113',\n",
    "    db='yes24',\n",
    "    charset='utf8mb4',\n",
    "    cursorclass=pymysql.cursors.DictCursor\n",
    ")\n",
    "\n",
    "try:\n",
    "    with conn.cursor() as cur:\n",
    "        for link in link_list:\n",
    "            try:\n",
    "                browser.get(link)\n",
    "\n",
    "                title = browser.find_element(By.CLASS_NAME, 'gd_name').text\n",
    "                author = browser.find_element(By.CLASS_NAME, 'gd_auth').text\n",
    "                publisher = browser.find_element(By.CLASS_NAME, 'gd_pub').text\n",
    "\n",
    "                # 2023년 12월 25일 -> 2023-12-25\n",
    "                publishing = browser.find_element(By.CLASS_NAME, 'gd_date').text\n",
    "                match = re.search(r'(\\d+)년 (\\d+)월 (\\d+)일', publishing)\n",
    "                if match:\n",
    "                    year, month, day = match.groups()\n",
    "                    publishing = f\"{int(year)}-{int(month):02d}-{int(day):02d}\"\n",
    "                else:\n",
    "                    publishing = \"2023-01-01\"\n",
    "\n",
    "                rating = browser.find_element(By.CLASS_NAME, 'yes_b').text\n",
    "\n",
    "                review = browser.find_element(By.CLASS_NAME,\"txC_blue\").text\n",
    "                review = int(review.replace(\",\", \"\"))\n",
    "\n",
    "                sales = browser.find_element(By.CLASS_NAME, 'gd_sellNum').text.split(\" \")[2]\n",
    "                sales = int(sales.replace(\",\", \"\"))\n",
    "\n",
    "                price = browser.find_element(By.CLASS_NAME, 'yes_m').text[:-1]\n",
    "                price = int(price.replace(\",\", \"\"))\n",
    "\n",
    "                # ranking\n",
    "                full_text = browser.find_element(By.CLASS_NAME, 'gd_best').text\n",
    "                parts = full_text.split(\" | \") \n",
    "                if len(parts) == 1:\n",
    "                    ranking = 0\n",
    "                    ranking_weeks = 0\n",
    "                else:\n",
    "                    try:\n",
    "                        ranking_part = parts[0]\n",
    "                        ranking = ''.join(filter(str.isdigit, ranking_part))  # 숫자만 추출\n",
    "                    except:\n",
    "                        ranking = 0\n",
    "\n",
    "                    try:\n",
    "                        ranking_weeks_part = parts[1]\n",
    "                        ranking_weeks = ''.join(filter(str.isdigit, ranking_weeks_part.split()[-1]))  # 숫자만 추출\n",
    "                    except:\n",
    "                        ranking_weeks = 0\n",
    "\n",
    "                sql = \"\"\"INSERT INTO books(\n",
    "                title, author, publisher, publishing, rating, review, sales, price, ranking, ranking_weeks\n",
    "                )\n",
    "                VALUES(\n",
    "                %s, %s, %s, %s, %s, %s, %s, %s, %s, %s\n",
    "                )\"\"\"\n",
    "\n",
    "                cur.execute(sql, (title, author, publisher, publishing, rating, review, sales, price, ranking, ranking_weeks))\n",
    "                conn.commit()\n",
    "                print(f\"Data for {title} inserted successfully.\")\n",
    "\n",
    "            except Exception as e:\n",
    "                print(f\"Error processing link {link}: {e}\")\n",
    "\n",
    "            time.sleep(2)  # 페이지 로딩 대기\n",
    "\n",
    "finally:\n",
    "    conn.close()  # 데이터베이스 연결 종료\n",
    "    print(\"Database connection closed.\")\n"
   ]
  }
 ],
 "metadata": {
  "kernelspec": {
   "display_name": "Python 3",
   "language": "python",
   "name": "python3"
  },
  "language_info": {
   "codemirror_mode": {
    "name": "ipython",
    "version": 3
   },
   "file_extension": ".py",
   "mimetype": "text/x-python",
   "name": "python",
   "nbconvert_exporter": "python",
   "pygments_lexer": "ipython3",
   "version": "3.9.6"
  }
 },
 "nbformat": 4,
 "nbformat_minor": 2
}
