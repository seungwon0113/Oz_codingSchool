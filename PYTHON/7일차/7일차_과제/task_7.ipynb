{
 "cells": [
  {
   "cell_type": "markdown",
   "metadata": {},
   "source": [
    "함수 실행 시간을 측정하는 데코레이터 timer_decorator를 작성하세요. \n",
    "\n",
    "임의의 함수가 실행되는 시간을 측정하여 \"함수 실행 시간: x.xx초\" 형태로 출력하세요."
   ]
  },
  {
   "cell_type": "code",
   "execution_count": 71,
   "metadata": {},
   "outputs": [
    {
     "name": "stdout",
     "output_type": "stream",
     "text": [
      "현재시간 : 0.06\n"
     ]
    },
    {
     "data": {
      "text/plain": [
       "499999500000"
      ]
     },
     "execution_count": 71,
     "metadata": {},
     "output_type": "execute_result"
    }
   ],
   "source": [
    "import time\n",
    "\n",
    "def timer_decorator(f):\n",
    "    def wrap(*args, **kwargs):\n",
    "        start = time.time()\n",
    "        result = f(*args, **kwargs)\n",
    "        end = time.time()\n",
    "        print(f\"현재시간 : {end - start:.2f}\")\n",
    "        return result\n",
    "    return wrap\n",
    "\n",
    "@timer_decorator\n",
    "def example_function():\n",
    "    sum = 0\n",
    "    for i in range(1000000):\n",
    "        sum += i\n",
    "    return sum\n",
    "\n",
    "example_function()\n"
   ]
  }
 ],
 "metadata": {
  "kernelspec": {
   "display_name": "Python 3",
   "language": "python",
   "name": "python3"
  },
  "language_info": {
   "codemirror_mode": {
    "name": "ipython",
    "version": 3
   },
   "file_extension": ".py",
   "mimetype": "text/x-python",
   "name": "python",
   "nbconvert_exporter": "python",
   "pygments_lexer": "ipython3",
   "version": "3.9.6"
  }
 },
 "nbformat": 4,
 "nbformat_minor": 2
}
